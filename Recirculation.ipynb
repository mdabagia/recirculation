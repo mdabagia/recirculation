{
 "cells": [
  {
   "cell_type": "code",
   "execution_count": 9,
   "metadata": {},
   "outputs": [],
   "source": [
    "import numpy as np\n",
    "import matplotlib.pyplot as plt"
   ]
  },
  {
   "cell_type": "code",
   "execution_count": 226,
   "metadata": {},
   "outputs": [],
   "source": [
    "def recirculate(inps, w1, w2, lr=20, reg=0.75, update=True):\n",
    "    # Visible units + bias\n",
    "    v = np.ones((5, 2))\n",
    "    # Reconstructed input\n",
    "    v_out = np.empty(inps.shape)\n",
    "    h_out = np.empty((2, 4))\n",
    "    # Hidden units + bias\n",
    "    h = np.ones((3, 2))\n",
    "    # Weight matrix updates\n",
    "    dw1 = np.empty(tuple([inps.shape[1]]) + w1.shape)\n",
    "    dw2 = np.empty(tuple([inps.shape[1]]) + w2.shape)\n",
    "    \n",
    "    def logistic(x):\n",
    "        return 1 / (1 + np.exp(-x))\n",
    "    \n",
    "    def relu(x):\n",
    "        return np.maximum(x, 0)\n",
    "    \n",
    "    for i in range(inps.shape[1]):\n",
    "        v[:-1, 0] = inps[:, i]\n",
    "        h[:-1, 0] = np.tanh(w1 @ v[:, 0])\n",
    "        v[:-1, 1] = reg * v[:-1, 0] + (1 - reg) * relu(w2 @ h[:, 0])\n",
    "        h[:-1, 1] = np.tanh(w1 @ v[:, 1])\n",
    "        dw1[i, :, :] = lr * (h[:-1, 0] - h[:-1, 1])[:, np.newaxis] @ v[:, 1][np.newaxis, :]\n",
    "        dw2[i, :, :] = lr * (v[:-1, 0] - v[:-1, 1])[:, np.newaxis] @ h[:, 0][np.newaxis, :]\n",
    "        v_out[:, i] = v[:-1, 1]\n",
    "        h_out[:, i] = h[:-1, 0]\n",
    "        \n",
    "    if update:\n",
    "        w1 = w1 + dw1.sum(axis=0)\n",
    "        w2 = w2 + dw2.sum(axis=0)\n",
    "        \n",
    "    return w1, w2, v_out, h_out\n",
    "    "
   ]
  },
  {
   "cell_type": "code",
   "execution_count": 240,
   "metadata": {
    "scrolled": false
   },
   "outputs": [],
   "source": [
    "# Visible to hidden weights\n",
    "w1 = np.random.random((2, 5)) - 0.5\n",
    "# Hidden to visible weights\n",
    "w2 = np.random.random((4, 3)) - 0.5\n",
    "\n",
    "# Input batch\n",
    "inps = np.array([[1, 0, 0, 0], [0, 1, 0, 0], [0, 0, 1, 0], [0, 0, 0, 1]]).T\n",
    "\n",
    "error = np.empty(100)\n",
    "for i in range(100):\n",
    "    _, _, v_out, _ = recirculate(inps, w1, w2, lr=0, reg=0, update=False)\n",
    "    error[i] = 0.5 * ((inps - v_out) ** 2).sum()    \n",
    "    \n",
    "    w1, w2, _, _ = recirculate(inps, w1, w2, lr=1, reg=0.75, update=True)"
   ]
  },
  {
   "cell_type": "code",
   "execution_count": 241,
   "metadata": {},
   "outputs": [
    {
     "data": {
      "image/png": "[encoded data removed]",
      "text/plain": [
       "<Figure size 432x288 with 1 Axes>"
      ]
     },
     "metadata": {
      "needs_background": "light"
     },
     "output_type": "display_data"
    }
   ],
   "source": [
    "fig = plt.figure()\n",
    "ax = fig.subplots(1, 1)\n",
    "ax.plot(error)\n",
    "plt.show()"
   ]
  },
  {
   "cell_type": "code",
   "execution_count": 242,
   "metadata": {},
   "outputs": [
    {
     "name": "stdout",
     "output_type": "stream",
     "text": [
      "[[9.99996538e-01 0.00000000e+00 1.12063241e-05 4.57087215e-06]\n",
      " [0.00000000e+00 9.99988346e-01 0.00000000e+00 0.00000000e+00]\n",
      " [7.77935895e-06 4.25896774e-06 9.99995063e-01 0.00000000e+00]\n",
      " [0.00000000e+00 0.00000000e+00 0.00000000e+00 1.00000064e+00]]\n",
      "[[-0.15773186  0.02603644 -0.79585457  0.89259688]\n",
      " [-0.81376667  0.83924587  0.02733514 -0.01325793]]\n"
     ]
    }
   ],
   "source": [
    "_, _, v_out, h_out = recirculate(inps, w1, w2, lr=5, reg=0, update=False)\n",
    "print(v_out)\n",
    "print(h_out)"
   ]
  },
  {
   "cell_type": "code",
   "execution_count": 233,
   "metadata": {},
   "outputs": [
    {
     "data": {
      "text/plain": [
       "0.8909545442950499"
      ]
     },
     "execution_count": 233,
     "metadata": {},
     "output_type": "execute_result"
    }
   ],
   "source": [
    "np.sqrt(2 * 0.63 ** 2)"
   ]
  }
 ],
 "metadata": {
  "kernelspec": {
   "display_name": "Python 3",
   "language": "python",
   "name": "python3"
  },
  "language_info": {
   "codemirror_mode": {
    "name": "ipython",
    "version": 3
   },
   "file_extension": ".py",
   "mimetype": "text/x-python",
   "name": "python",
   "nbconvert_exporter": "python",
   "pygments_lexer": "ipython3",
   "version": "3.7.3"
  }
 },
 "nbformat": 4,
 "nbformat_minor": 2
}
