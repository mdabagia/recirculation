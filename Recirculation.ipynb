{
 "cells": [
  {
   "cell_type": "code",
   "execution_count": 9,
   "metadata": {},
   "outputs": [],
   "source": [
    "import numpy as np\n",
    "import matplotlib.pyplot as plt"
   ]
  },
  {
   "cell_type": "code",
   "execution_count": 55,
   "metadata": {},
   "outputs": [],
   "source": [
    "def recirculate(inputs, w1, w2, lr=1, reg=0.75, update=True):\n",
    "    # Initialize neuron activations for each input & time step\n",
    "    # One visible layer\n",
    "    v = np.ones((inputs.shape[0], 2, 5))\n",
    "    # One hidden layer\n",
    "    h = np.ones((inputs.shape[0], 2, 3))\n",
    "    \n",
    "    # Activation functions\n",
    "    def logistic(x):\n",
    "        return 1 / (1 + np.exp(-x))\n",
    "    \n",
    "    def relu(x):\n",
    "        return np.maximum(0, x)\n",
    "    \n",
    "    \n",
    "    # First forward pass (t=0)\n",
    "    v[:, 0, :-1] = inputs\n",
    "    h[:, 0, :-1] = np.tanh(v[:, 0, :] @ w1)\n",
    "    \n",
    "    # Recirculation (t=1)\n",
    "    v[:, 1, :-1] = reg * v[:, 0, :-1] + (1 - reg) * relu(h[:, 0, :] @ w2)\n",
    "    h[:, 1, :-1] = np.tanh(v[:, 1, :] @ w1)\n",
    "    \n",
    "    # Calculate weight updates\n",
    "    dw1 = lr * v[:, 1, :].T @ (h[:, 0, :-1] - h[:, 1, :-1])\n",
    "    dw2 = lr * h[:, 0, :].T @ (v[:, 0, :-1] - v[:, 1, :-1])\n",
    "    \n",
    "    return w1 + dw1, w2 + dw2, v[:, 1, :-1], h[:, 0, :-1]"
   ]
  },
  {
   "cell_type": "code",
   "execution_count": 56,
   "metadata": {
    "scrolled": false
   },
   "outputs": [],
   "source": [
    "# Visible to hidden weights\n",
    "w1 = np.random.random((5, 2)) - 0.5\n",
    "# Hidden to visible weights\n",
    "w2 = np.random.random((3, 4)) - 0.5\n",
    "\n",
    "# Input batch\n",
    "inps = np.array([[1, 0, 0, 0], [0, 1, 0, 0], [0, 0, 1, 0], [0, 0, 0, 1]])\n",
    "\n",
    "# Error for each epoch\n",
    "error = np.empty(100)\n",
    "\n",
    "# Train!\n",
    "for i in range(100):\n",
    "    _, _, v_out, _ = recirculate(inps, w1, w2, lr=0, reg=0, update=False)\n",
    "    error[i] = 0.5 * ((inps - v_out) ** 2).sum()    \n",
    "    \n",
    "    w1, w2, _, _ = recirculate(inps, w1, w2, lr=1, reg=0.75, update=True)"
   ]
  },
  {
   "cell_type": "code",
   "execution_count": 57,
   "metadata": {},
   "outputs": [
    {
     "data": {
      "image/png": "[encoded data removed]",
      "text/plain": [
       "<Figure size 432x288 with 1 Axes>"
      ]
     },
     "metadata": {
      "needs_background": "light"
     },
     "output_type": "display_data"
    }
   ],
   "source": [
    "# Plot error\n",
    "fig = plt.figure()\n",
    "ax = fig.subplots(1, 1)\n",
    "ax.plot(error)\n",
    "ax.set_ylabel('Mean Squared Error')\n",
    "ax.set_xlabel('Epoch')\n",
    "plt.show()"
   ]
  },
  {
   "cell_type": "code",
   "execution_count": 60,
   "metadata": {},
   "outputs": [
    {
     "data": {
      "image/png": "[encoded data removed]",
      "text/plain": [
       "<Figure size 432x288 with 2 Axes>"
      ]
     },
     "metadata": {
      "needs_background": "light"
     },
     "output_type": "display_data"
    }
   ],
   "source": [
    "# Check the coded representation it learned\n",
    "_, _, v_out, h_out = recirculate(inps, w1, w2, lr=0, reg=0, update=False)\n",
    "fig = plt.figure()\n",
    "axes = fig.subplots(1, 2)\n",
    "axes[0].imshow(v_out)\n",
    "axes[0].set_ylabel('Reconstructed Output')\n",
    "axes[0].set_xlabel('Bits')\n",
    "axes[0].set_yticks([0, 1, 2, 3])\n",
    "axes[0].set_yticks([0, 1, 2, 3])\n",
    "axes[1].imshow(h_out)\n",
    "axes[1].set_ylabel('Hidden Code')\n",
    "axes[1].set_xlabel('Bits')\n",
    "axes[1].set_yticks([0, 1, 2, 3])\n",
    "axes[1].set_xticks([0, 1])\n",
    "plt.show()"
   ]
  }
 ],
 "metadata": {
  "kernelspec": {
   "display_name": "Python 3",
   "language": "python",
   "name": "python3"
  },
  "language_info": {
   "codemirror_mode": {
    "name": "ipython",
    "version": 3
   },
   "file_extension": ".py",
   "mimetype": "text/x-python",
   "name": "python",
   "nbconvert_exporter": "python",
   "pygments_lexer": "ipython3",
   "version": "3.7.3"
  }
 },
 "nbformat": 4,
 "nbformat_minor": 2
}
